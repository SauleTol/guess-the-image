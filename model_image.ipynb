{
 "cells": [
  {
   "cell_type": "code",
   "execution_count": 9,
   "metadata": {},
   "outputs": [],
   "source": [
    "import os\n",
    "import random\n",
    "import shutil\n",
    "from tensorflow.keras.preprocessing.image import ImageDataGenerator\n",
    "from tensorflow.keras import datasets, layers, models\n",
    "from tensorflow.keras.optimizers import Adam\n",
    "import PIL\n",
    "from PIL import Image\n",
    "import numpy as np"
   ]
  },
  {
   "cell_type": "code",
   "execution_count": 2,
   "metadata": {},
   "outputs": [],
   "source": [
    "#Paths to my folders\n",
    "train_dir='train'\n",
    "test_dir='test'\n",
    "validation_dir='valid'"
   ]
  },
  {
   "cell_type": "code",
   "execution_count": 3,
   "metadata": {},
   "outputs": [
    {
     "name": "stdout",
     "output_type": "stream",
     "text": [
      "Found 7946 images belonging to 70 classes.\n",
      "Found 700 images belonging to 70 classes.\n",
      "Found 700 images belonging to 70 classes.\n"
     ]
    }
   ],
   "source": [
    "train_datagen = ImageDataGenerator(\n",
    "    rescale=1./255, #Rescales pixel values to the range [0, 1] by dividing by 255, the maximum value for RGB\n",
    "    rotation_range=20, #Randomly rotates images by up to 20 degrees \n",
    "    width_shift_range=0.2, #Randomly shifts images horizontally\n",
    "    height_shift_range=0.2, #Randomly shifts images vertically\n",
    "    shear_range=0.2, #Applies random shear transformations\n",
    "    zoom_range=0.2, #Randomly zooms inside images\n",
    "    horizontal_flip=True, #Randomly flips images horizontally\n",
    "    fill_mode='nearest' #Fills in new pixels created by the transformations with the nearest pixel values\n",
    ")\n",
    "\n",
    "validation_datagen = ImageDataGenerator(rescale=1./255) #Rescales validation images\n",
    "\n",
    "test_datagen = ImageDataGenerator(rescale=1./255) #Rescales test images\n",
    "\n",
    "train_generator = train_datagen.flow_from_directory(\n",
    "    train_dir, #Directory with training images\n",
    "    target_size=(250, 250), #Resizes images to 250x250 pixels\n",
    "    batch_size=32, #Generates batches of 32 images\n",
    "    class_mode='categorical' #Uses categorical labels for classes\n",
    ")\n",
    "\n",
    "test_generator = test_datagen.flow_from_directory(\n",
    "    test_dir, #Directory with test images\n",
    "    target_size=(250, 250),\n",
    "    batch_size=32, \n",
    "    class_mode='categorical' \n",
    ")\n",
    "\n",
    "validation_generator = validation_datagen.flow_from_directory(\n",
    "    validation_dir, #Directory with validation images\n",
    "    target_size=(250, 250), \n",
    "    batch_size=32,\n",
    "    class_mode='categorical'\n",
    ")\n"
   ]
  },
  {
   "cell_type": "code",
   "execution_count": 4,
   "metadata": {},
   "outputs": [
    {
     "name": "stderr",
     "output_type": "stream",
     "text": [
      "f:\\data\\guess-the-image\\mokymai\\Lib\\site-packages\\keras\\src\\layers\\convolutional\\base_conv.py:107: UserWarning: Do not pass an `input_shape`/`input_dim` argument to a layer. When using Sequential models, prefer using an `Input(shape)` object as the first layer in the model instead.\n",
      "  super().__init__(activity_regularizer=activity_regularizer, **kwargs)\n"
     ]
    }
   ],
   "source": [
    "#Model creation\n",
    "\n",
    "model = models.Sequential([\n",
    "    layers.Conv2D(32, (3,3), activation='relu', input_shape=(250,250,3)), #Specify the number of filters and their dimensions\n",
    "    layers.MaxPooling2D(2,2), #Reduce dimensions while retaining important features\n",
    "    layers.Conv2D(64, (3,3), activation='relu' ), #Another convolutional layer\n",
    "    layers.MaxPooling2D(2,2),\n",
    "    layers.Conv2D(128, (3,3), activation='relu'), #Layer filters\n",
    "    layers.MaxPooling2D(2,2),\n",
    "    layers.Flatten(), #Flatten data, converting from 3D to 1D\n",
    "    layers.Dense(512, activation='relu'), #Fully connected layer\n",
    "    layers.Dropout(0.5), #Randomly drop neurons to prevent overfitting\n",
    "    layers.Dense(70, activation='softmax') #Output layer with 15 categories, using softmax activation for multi-class classification\n",
    "])"
   ]
  },
  {
   "cell_type": "code",
   "execution_count": 5,
   "metadata": {},
   "outputs": [],
   "source": [
    "#Preparing model for training\n",
    "model.compile(\n",
    "    optimizer=Adam(learning_rate=1e-4), #Specify the optimizer and learning rate\n",
    "    loss='categorical_crossentropy', #Define the loss function to calculate model's error\n",
    "    metrics=['accuracy'] \n",
    ")"
   ]
  },
  {
   "cell_type": "code",
   "execution_count": 7,
   "metadata": {},
   "outputs": [
    {
     "name": "stdout",
     "output_type": "stream",
     "text": [
      "Epoch 1/30\n"
     ]
    },
    {
     "name": "stderr",
     "output_type": "stream",
     "text": [
      "f:\\data\\guess-the-image\\mokymai\\Lib\\site-packages\\keras\\src\\trainers\\data_adapters\\py_dataset_adapter.py:121: UserWarning: Your `PyDataset` class should call `super().__init__(**kwargs)` in its constructor. `**kwargs` can include `workers`, `use_multiprocessing`, `max_queue_size`. Do not pass these arguments to `fit()`, as they will be ignored.\n",
      "  self._warn_if_super_not_called()\n"
     ]
    },
    {
     "name": "stdout",
     "output_type": "stream",
     "text": [
      "\u001b[1m248/248\u001b[0m \u001b[32m━━━━━━━━━━━━━━━━━━━━\u001b[0m\u001b[37m\u001b[0m \u001b[1m464s\u001b[0m 2s/step - accuracy: 0.0206 - loss: 4.2742 - val_accuracy: 0.0432 - val_loss: 4.0669\n",
      "Epoch 2/30\n",
      "\u001b[1m  1/248\u001b[0m \u001b[37m━━━━━━━━━━━━━━━━━━━━\u001b[0m \u001b[1m5:47\u001b[0m 1s/step - accuracy: 0.0312 - loss: 4.0154"
     ]
    },
    {
     "name": "stderr",
     "output_type": "stream",
     "text": [
      "C:\\Users\\Svečias\\AppData\\Local\\Programs\\Python\\Python311\\Lib\\contextlib.py:158: UserWarning: Your input ran out of data; interrupting training. Make sure that your dataset or generator can generate at least `steps_per_epoch * epochs` batches. You may need to use the `.repeat()` function when building your dataset.\n",
      "  self.gen.throw(typ, value, traceback)\n"
     ]
    },
    {
     "name": "stdout",
     "output_type": "stream",
     "text": [
      "\u001b[1m248/248\u001b[0m \u001b[32m━━━━━━━━━━━━━━━━━━━━\u001b[0m\u001b[37m\u001b[0m \u001b[1m2s\u001b[0m 1ms/step - accuracy: 0.0312 - loss: 4.0154 - val_accuracy: 0.0714 - val_loss: 4.0168\n",
      "Epoch 3/30\n",
      "\u001b[1m248/248\u001b[0m \u001b[32m━━━━━━━━━━━━━━━━━━━━\u001b[0m\u001b[37m\u001b[0m \u001b[1m439s\u001b[0m 2s/step - accuracy: 0.0388 - loss: 4.0859 - val_accuracy: 0.0610 - val_loss: 3.8693\n",
      "Epoch 4/30\n",
      "\u001b[1m248/248\u001b[0m \u001b[32m━━━━━━━━━━━━━━━━━━━━\u001b[0m\u001b[37m\u001b[0m \u001b[1m2s\u001b[0m 1ms/step - accuracy: 0.0312 - loss: 3.8055 - val_accuracy: 0.1429 - val_loss: 3.6621\n",
      "Epoch 5/30\n",
      "\u001b[1m248/248\u001b[0m \u001b[32m━━━━━━━━━━━━━━━━━━━━\u001b[0m\u001b[37m\u001b[0m \u001b[1m398s\u001b[0m 2s/step - accuracy: 0.0517 - loss: 3.9667 - val_accuracy: 0.1071 - val_loss: 3.6917\n",
      "Epoch 6/30\n",
      "\u001b[1m248/248\u001b[0m \u001b[32m━━━━━━━━━━━━━━━━━━━━\u001b[0m\u001b[37m\u001b[0m \u001b[1m2s\u001b[0m 967us/step - accuracy: 0.0938 - loss: 4.1899 - val_accuracy: 0.0714 - val_loss: 3.7650\n",
      "Epoch 7/30\n",
      "\u001b[1m248/248\u001b[0m \u001b[32m━━━━━━━━━━━━━━━━━━━━\u001b[0m\u001b[37m\u001b[0m \u001b[1m444s\u001b[0m 2s/step - accuracy: 0.0664 - loss: 3.8799 - val_accuracy: 0.1131 - val_loss: 3.6721\n",
      "Epoch 8/30\n",
      "\u001b[1m248/248\u001b[0m \u001b[32m━━━━━━━━━━━━━━━━━━━━\u001b[0m\u001b[37m\u001b[0m \u001b[1m2s\u001b[0m 2ms/step - accuracy: 0.0938 - loss: 3.9365 - val_accuracy: 0.1071 - val_loss: 3.6455\n",
      "Epoch 9/30\n",
      "\u001b[1m248/248\u001b[0m \u001b[32m━━━━━━━━━━━━━━━━━━━━\u001b[0m\u001b[37m\u001b[0m \u001b[1m446s\u001b[0m 2s/step - accuracy: 0.0765 - loss: 3.8258 - val_accuracy: 0.1429 - val_loss: 3.5068\n",
      "Epoch 10/30\n",
      "\u001b[1m248/248\u001b[0m \u001b[32m━━━━━━━━━━━━━━━━━━━━\u001b[0m\u001b[37m\u001b[0m \u001b[1m2s\u001b[0m 1ms/step - accuracy: 0.0000e+00 - loss: 3.8343 - val_accuracy: 0.1429 - val_loss: 3.6491\n",
      "Epoch 11/30\n",
      "\u001b[1m248/248\u001b[0m \u001b[32m━━━━━━━━━━━━━━━━━━━━\u001b[0m\u001b[37m\u001b[0m \u001b[1m413s\u001b[0m 2s/step - accuracy: 0.0942 - loss: 3.7424 - val_accuracy: 0.1771 - val_loss: 3.4179\n",
      "Epoch 12/30\n",
      "\u001b[1m248/248\u001b[0m \u001b[32m━━━━━━━━━━━━━━━━━━━━\u001b[0m\u001b[37m\u001b[0m \u001b[1m2s\u001b[0m 2ms/step - accuracy: 0.1250 - loss: 3.6697 - val_accuracy: 0.0714 - val_loss: 3.4308\n",
      "Epoch 13/30\n",
      "\u001b[1m248/248\u001b[0m \u001b[32m━━━━━━━━━━━━━━━━━━━━\u001b[0m\u001b[37m\u001b[0m \u001b[1m427s\u001b[0m 2s/step - accuracy: 0.0998 - loss: 3.6810 - val_accuracy: 0.1935 - val_loss: 3.3600\n",
      "Epoch 14/30\n",
      "\u001b[1m248/248\u001b[0m \u001b[32m━━━━━━━━━━━━━━━━━━━━\u001b[0m\u001b[37m\u001b[0m \u001b[1m2s\u001b[0m 1ms/step - accuracy: 0.0938 - loss: 3.5064 - val_accuracy: 0.2500 - val_loss: 3.3570\n",
      "Epoch 15/30\n",
      "\u001b[1m248/248\u001b[0m \u001b[32m━━━━━━━━━━━━━━━━━━━━\u001b[0m\u001b[37m\u001b[0m \u001b[1m445s\u001b[0m 2s/step - accuracy: 0.1188 - loss: 3.5820 - val_accuracy: 0.1801 - val_loss: 3.3366\n",
      "Epoch 16/30\n",
      "\u001b[1m248/248\u001b[0m \u001b[32m━━━━━━━━━━━━━━━━━━━━\u001b[0m\u001b[37m\u001b[0m \u001b[1m2s\u001b[0m 1ms/step - accuracy: 0.0938 - loss: 3.9950 - val_accuracy: 0.3571 - val_loss: 2.8157\n",
      "Epoch 17/30\n",
      "\u001b[1m248/248\u001b[0m \u001b[32m━━━━━━━━━━━━━━━━━━━━\u001b[0m\u001b[37m\u001b[0m \u001b[1m436s\u001b[0m 2s/step - accuracy: 0.1228 - loss: 3.5757 - val_accuracy: 0.2068 - val_loss: 3.1868\n",
      "Epoch 18/30\n",
      "\u001b[1m248/248\u001b[0m \u001b[32m━━━━━━━━━━━━━━━━━━━━\u001b[0m\u001b[37m\u001b[0m \u001b[1m2s\u001b[0m 1ms/step - accuracy: 0.0938 - loss: 3.6923 - val_accuracy: 0.1429 - val_loss: 3.2782\n",
      "Epoch 19/30\n",
      "\u001b[1m248/248\u001b[0m \u001b[32m━━━━━━━━━━━━━━━━━━━━\u001b[0m\u001b[37m\u001b[0m \u001b[1m458s\u001b[0m 2s/step - accuracy: 0.1255 - loss: 3.5090 - val_accuracy: 0.2381 - val_loss: 3.1123\n",
      "Epoch 20/30\n",
      "\u001b[1m248/248\u001b[0m \u001b[32m━━━━━━━━━━━━━━━━━━━━\u001b[0m\u001b[37m\u001b[0m \u001b[1m2s\u001b[0m 1ms/step - accuracy: 0.0938 - loss: 3.7190 - val_accuracy: 0.0714 - val_loss: 3.5616\n",
      "Epoch 21/30\n",
      "\u001b[1m248/248\u001b[0m \u001b[32m━━━━━━━━━━━━━━━━━━━━\u001b[0m\u001b[37m\u001b[0m \u001b[1m446s\u001b[0m 2s/step - accuracy: 0.1413 - loss: 3.4562 - val_accuracy: 0.2604 - val_loss: 3.1117\n",
      "Epoch 22/30\n",
      "\u001b[1m248/248\u001b[0m \u001b[32m━━━━━━━━━━━━━━━━━━━━\u001b[0m\u001b[37m\u001b[0m \u001b[1m2s\u001b[0m 1ms/step - accuracy: 0.1250 - loss: 3.6283 - val_accuracy: 0.2143 - val_loss: 3.1323\n",
      "Epoch 23/30\n",
      "\u001b[1m248/248\u001b[0m \u001b[32m━━━━━━━━━━━━━━━━━━━━\u001b[0m\u001b[37m\u001b[0m \u001b[1m459s\u001b[0m 2s/step - accuracy: 0.1440 - loss: 3.4337 - val_accuracy: 0.2381 - val_loss: 3.0494\n",
      "Epoch 24/30\n",
      "\u001b[1m248/248\u001b[0m \u001b[32m━━━━━━━━━━━━━━━━━━━━\u001b[0m\u001b[37m\u001b[0m \u001b[1m3s\u001b[0m 2ms/step - accuracy: 0.2812 - loss: 3.0300 - val_accuracy: 0.2143 - val_loss: 2.9045\n",
      "Epoch 25/30\n",
      "\u001b[1m248/248\u001b[0m \u001b[32m━━━━━━━━━━━━━━━━━━━━\u001b[0m\u001b[37m\u001b[0m \u001b[1m368s\u001b[0m 1s/step - accuracy: 0.1582 - loss: 3.3540 - val_accuracy: 0.2664 - val_loss: 2.9750\n",
      "Epoch 26/30\n",
      "\u001b[1m248/248\u001b[0m \u001b[32m━━━━━━━━━━━━━━━━━━━━\u001b[0m\u001b[37m\u001b[0m \u001b[1m2s\u001b[0m 1ms/step - accuracy: 0.1875 - loss: 3.1226 - val_accuracy: 0.3571 - val_loss: 2.8496\n",
      "Epoch 27/30\n",
      "\u001b[1m248/248\u001b[0m \u001b[32m━━━━━━━━━━━━━━━━━━━━\u001b[0m\u001b[37m\u001b[0m \u001b[1m373s\u001b[0m 1s/step - accuracy: 0.1595 - loss: 3.3623 - val_accuracy: 0.2560 - val_loss: 2.9991\n",
      "Epoch 28/30\n",
      "\u001b[1m248/248\u001b[0m \u001b[32m━━━━━━━━━━━━━━━━━━━━\u001b[0m\u001b[37m\u001b[0m \u001b[1m2s\u001b[0m 1ms/step - accuracy: 0.0312 - loss: 3.5871 - val_accuracy: 0.3571 - val_loss: 2.7486\n",
      "Epoch 29/30\n",
      "\u001b[1m248/248\u001b[0m \u001b[32m━━━━━━━━━━━━━━━━━━━━\u001b[0m\u001b[37m\u001b[0m \u001b[1m364s\u001b[0m 1s/step - accuracy: 0.1659 - loss: 3.3056 - val_accuracy: 0.2783 - val_loss: 2.9180\n",
      "Epoch 30/30\n",
      "\u001b[1m248/248\u001b[0m \u001b[32m━━━━━━━━━━━━━━━━━━━━\u001b[0m\u001b[37m\u001b[0m \u001b[1m2s\u001b[0m 1ms/step - accuracy: 0.1875 - loss: 2.8947 - val_accuracy: 0.3929 - val_loss: 2.6891\n"
     ]
    }
   ],
   "source": [
    "history = model.fit(\n",
    "    train_generator,\n",
    "    steps_per_epoch= train_generator.samples // train_generator.batch_size, #Get the integer number of steps per epoch\n",
    "    epochs=30,\n",
    "    validation_data= validation_generator,\n",
    "    validation_steps= validation_generator.samples // validation_generator.batch_size #Avoid division by zero error when batch size is 0\n",
    ")"
   ]
  },
  {
   "cell_type": "code",
   "execution_count": 8,
   "metadata": {},
   "outputs": [
    {
     "name": "stderr",
     "output_type": "stream",
     "text": [
      "WARNING:absl:You are saving your model as an HDF5 file via `model.save()` or `keras.saving.save_model(model)`. This file format is considered legacy. We recommend using instead the native Keras format, e.g. `model.save('my_model.keras')` or `keras.saving.save_model(model, 'my_model.keras')`. \n"
     ]
    }
   ],
   "source": [
    "model.save('modelis.h5')"
   ]
  },
  {
   "cell_type": "code",
   "execution_count": 10,
   "metadata": {},
   "outputs": [],
   "source": [
    "def preprocess_image(image_path):\n",
    "    img = Image.open(image_path)\n",
    "\n",
    "    if image_path.endswith('.png'):\n",
    "        im = Image.open(image_path)\n",
    "        img = im.convert('RGB')\n",
    "\n",
    "    img = img.resize((250,250))\n",
    "    img_array = np.array(img)\n",
    "    img_array=img_array.astype('float32') / 255.0\n",
    "    img_array = np.expand_dims(img_array, axis=0)\n",
    "    return img_array"
   ]
  },
  {
   "cell_type": "code",
   "execution_count": 13,
   "metadata": {},
   "outputs": [
    {
     "name": "stdout",
     "output_type": "stream",
     "text": [
      "\u001b[1m1/1\u001b[0m \u001b[32m━━━━━━━━━━━━━━━━━━━━\u001b[0m\u001b[37m\u001b[0m \u001b[1m0s\u001b[0m 42ms/step\n",
      "Rhodesian\n",
      "\u001b[1m1/1\u001b[0m \u001b[32m━━━━━━━━━━━━━━━━━━━━\u001b[0m\u001b[37m\u001b[0m \u001b[1m0s\u001b[0m 39ms/step\n",
      "Cockapoo\n"
     ]
    }
   ],
   "source": [
    "class_indices = train_generator.class_indices\n",
    "class_labels = {value:key for key, value in class_indices.items()} \n",
    "\n",
    "\n",
    "def predict_breed(path_to_img):\n",
    "    img_array = preprocess_image(path_to_img)\n",
    "    predictions = model.predict(img_array)\n",
    "    predicted_class = np.argmax(predictions, axis=1)\n",
    "    return class_labels[predicted_class[0]]\n",
    "\n",
    "print(predict_breed('chow.jpg'))\n",
    "print(predict_breed('chow_chow.jpg'))\n"
   ]
  }
 ],
 "metadata": {
  "kernelspec": {
   "display_name": "mokymai",
   "language": "python",
   "name": "python3"
  },
  "language_info": {
   "codemirror_mode": {
    "name": "ipython",
    "version": 3
   },
   "file_extension": ".py",
   "mimetype": "text/x-python",
   "name": "python",
   "nbconvert_exporter": "python",
   "pygments_lexer": "ipython3",
   "version": "3.11.8"
  }
 },
 "nbformat": 4,
 "nbformat_minor": 2
}
